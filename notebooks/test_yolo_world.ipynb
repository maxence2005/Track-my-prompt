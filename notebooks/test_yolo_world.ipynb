{
 "cells": [
  {
   "cell_type": "markdown",
   "metadata": {},
   "source": [
    "L'utilisation de YOLOWorld est très simple. Il suffit de télécharger le modèle pré-entraîné puis de l'importer à l'aide de YOLOWorld. Pour effectuer une détection d'image, il suffit simplement d'utiliser la méthode predict() avec le chemin de notre image/vidéo en paramètre. Il est aussi possible de forcer l'IA à détecter uniquement certaines classes. Pour ce faire il suffit d'utiliser la méthode set_classes() avec le nom des classes en paramètre."
   ]
  },
  {
   "cell_type": "code",
   "execution_count": 10,
   "metadata": {},
   "outputs": [
    {
     "name": "stdout",
     "output_type": "stream",
     "text": [
      "\n",
      "image 1/1 /home/martin/Documents/TrackMyPrompts/track-my-prompt/notebooks/brosse_a_dents.jpeg: 352x640 1 bottle, 3 knifes, 106.8ms\n",
      "Speed: 1.0ms preprocess, 106.8ms inference, 0.5ms postprocess per image at shape (1, 3, 352, 640)\n",
      "\n",
      "image 1/1 /home/martin/Documents/TrackMyPrompts/track-my-prompt/notebooks/brosse_a_dents.jpeg: 352x640 11 toothbrushs, 2 knifes, 116.7ms\n",
      "Speed: 1.0ms preprocess, 116.7ms inference, 0.5ms postprocess per image at shape (1, 3, 352, 640)\n"
     ]
    }
   ],
   "source": [
    "from ultralytics import YOLOWorld\n",
    "\n",
    "# Importation d'un modèle pré-entraîné, disponible sur https://docs.ultralytics.com/models/yolo-world/\n",
    "model = YOLOWorld(\"yolov8s-world.pt\")\n",
    "\n",
    "# On indique au modèle les classes qu'on veut détecter\n",
    "model.set_classes([\"bottle\", \"knife\"])\n",
    "\n",
    "# Prédiction avec une image de brosses à dents\n",
    "results = model.predict(\"brosse_a_dents.jpeg\")\n",
    "\n",
    "# Affichage des résultats\n",
    "results[0].show()"
   ]
  },
  {
   "cell_type": "code",
   "execution_count": null,
   "metadata": {},
   "outputs": [],
   "source": []
  }
 ],
 "metadata": {
  "kernelspec": {
   "display_name": "venv",
   "language": "python",
   "name": "python3"
  },
  "language_info": {
   "codemirror_mode": {
    "name": "ipython",
    "version": 3
   },
   "file_extension": ".py",
   "mimetype": "text/x-python",
   "name": "python",
   "nbconvert_exporter": "python",
   "pygments_lexer": "ipython3",
   "version": "3.10.12"
  }
 },
 "nbformat": 4,
 "nbformat_minor": 2
}
